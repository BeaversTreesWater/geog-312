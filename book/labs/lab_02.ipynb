{
 "cells": [
  {
   "cell_type": "markdown",
   "id": "0",
   "metadata": {},
   "source": [
    "# Lab 2\n",
    "\n",
    "[![Open In Colab](https://colab.research.google.com/assets/colab-badge.svg)](https://colab.research.google.com/github/giswqs/geog-312/blob/main/book/labs/lab_02.ipynb)\n",
    "\n",
    "This notebook contains exercises based on the lectures on [**String Operations**](https://geog-312.gishub.org/book/python/04_string_operations.html) and [**Looping and Control Statements**](https://geog-312.gishub.org/book/python/05_looping.html). These exercises will help reinforce the concepts of string manipulation, loops, and conditionals in geospatial contexts."
   ]
  },
  {
   "cell_type": "markdown",
   "id": "1",
   "metadata": {},
   "source": [
    "## Exercise 1: Manipulating Geographic Location Strings\n",
    "\n",
    "- Create a string that represents the name of a geographic feature (e.g., `\"Amazon River\"`).\n",
    "- Convert the string to lowercase and then to uppercase.\n",
    "- Concatenate the string with the name of the country (e.g., `\"Brazil\"`) to create a full location name.\n",
    "- Repeat the string three times, separating each repetition with a dash (`-`)."
   ]
  },
  {
   "cell_type": "code",
   "execution_count": null,
   "id": "2",
   "metadata": {},
   "outputs": [],
   "source": [
    "geographic_features = \"Amazon River\"\n",
    "country = \"Brazil\"\n",
    "\n",
    "print(geographic_features)\n",
    "print(geographic_features.lower())\n",
    "print(geographic_features.upper())\n",
    "\n",
    "full_location = geographic_features + \", \" + country\n",
    "print(full_location)\n",
    "\n",
    "repeated_location = \" - \".join([full_location] * 3)\n",
    "print(repeated_location)\n"
   ]
  },
  {
   "cell_type": "markdown",
   "id": "3",
   "metadata": {},
   "source": [
    "## Exercise 2: Extracting and Formatting Coordinates\n",
    "\n",
    "- Given a string with the format `\"latitude, longitude\"` (e.g., `\"40.7128N, 74.0060W\"`), extract the numeric values of latitude and longitude.\n",
    "- Convert these values to floats and remove the directional indicators (`N`, `S`, `E`, `W`).\n",
    "- Format the coordinates into a `POINT` WKT string (e.g., `\"POINT(-74.0060 40.7128)\"`)."
   ]
  },
  {
   "cell_type": "code",
   "execution_count": null,
   "id": "4",
   "metadata": {},
   "outputs": [],
   "source": [
    "cordinate_string = \"40.7128N, 74.0060W\"\n",
    "\n",
    "lat_str, lon_str = cordinate_string.split(\", \")\n",
    "latitude = float(lat_str[:-1])\n",
    "longitude = float(lon_str[:-1])\n",
    "\n",
    "print(f\"Parsed Coordinate: ({latitude}, {longitude})\")\n",
    "\n",
    "if lat_str[-1] == \"S\":\n",
    "    latitude = -latitude\n",
    "if lon_str[-1] == \"W\":\n",
    "    longitude = -longitude\n",
    "\n",
    "wkt_point = f\"POINT ({longitude} {latitude})\"\n",
    "print(wkt_point)\n",
    "\n",
    "\n"
   ]
  },
  {
   "cell_type": "markdown",
   "id": "5",
   "metadata": {},
   "source": [
    "## Exercise 3: Building Dynamic SQL Queries\n",
    "\n",
    "- Given a table name and a condition, dynamically build an SQL query string.\n",
    "- Example: If `table_name = \"cities\"` and `condition = \"population > 1000000\"`, the query should be `\"SELECT * FROM cities WHERE population > 1000000;\"`.\n",
    "- Add additional conditions dynamically, like `AND` clauses."
   ]
  },
  {
   "cell_type": "code",
   "execution_count": 107,
   "id": "6",
   "metadata": {},
   "outputs": [
    {
     "name": "stdout",
     "output_type": "stream",
     "text": [
      "SELECT * FROM cities WHERE population > 1000000;\n",
      "SELECT * FROM cities WHERE population > 1000000 AND country = 'United States' AND state = 'California';\n",
      "SELECT * FROM cities WHERE population > 1000000 AND country = 'United States' AND state = 'New York' AND area > 1000;\n"
     ]
    }
   ],
   "source": [
    "#build dynamic SQL query\n",
    "\n",
    "def build_sql_query(table_name, condition, additional_conditions=None):\n",
    "    #bulid the query\n",
    "    query = f\"SELECT * FROM {table_name} WHERE {condition}\"\n",
    "\n",
    "    #handle additional conditions\n",
    "    if additional_conditions:\n",
    "        for condition in additional_conditions:\n",
    "            query += f\" AND {condition}\"\n",
    "    #complete the query\n",
    "    query += \";\"\n",
    "    return query\n",
    "\n",
    "\n",
    "table_name = \"cities\"\n",
    "condition = \"population > 1000000\"\n",
    "\n",
    "sql_query = build_sql_query(table_name, condition)\n",
    "print(sql_query)\n",
    "\n",
    "sql_query = build_sql_query(table_name, condition, additional_conditions = [\"country = 'United States'\", \"state = 'California'\"])\n",
    "print(sql_query)\n",
    "\n",
    "sql_query = build_sql_query(table_name, condition, additional_conditions = [\"country = 'United States'\", \"state = 'New York'\", \"area > 1000\"])\n",
    "print(sql_query)"
   ]
  },
  {
   "cell_type": "markdown",
   "id": "7",
   "metadata": {},
   "source": [
    "## Exercise 4: String Normalization and Cleaning\n",
    "\n",
    "- Given a list of city names with inconsistent formatting (e.g., `[\" new york \", \"Los ANGELES\", \"   CHICAGO\"]`), normalize the names by:\n",
    "  - Stripping any leading or trailing whitespace.\n",
    "  - Converting them to title case (e.g., `\"New York\"`, `\"Los Angeles\"`, `\"Chicago\"`).\n",
    "- Ensure that the output is a clean list of city names."
   ]
  },
  {
   "cell_type": "code",
   "execution_count": null,
   "id": "8",
   "metadata": {},
   "outputs": [],
   "source": [
    "city_names = [\" new york \", \"Los ANGELES\", \"   CHICAGO\"]\n",
    "normalized_city_names = [city.strip().title() for city in city_names]\n",
    "print(normalized_city_names)\n"
   ]
  },
  {
   "cell_type": "markdown",
   "id": "9",
   "metadata": {},
   "source": [
    "## Exercise 5: Parsing and Extracting Address Information\n",
    "\n",
    "- Given a string in the format `\"Street, City, Country\"` (e.g., `\"123 Main St, Springfield, USA\"`), write a function that parses the string into a dictionary with keys `street`, `city`, and `country`.\n",
    "- The function should return a dictionary like `{\"street\": \"123 Main St\", \"city\": \"Springfield\", \"country\": \"USA\"}`."
   ]
  },
  {
   "cell_type": "code",
   "execution_count": null,
   "id": "10",
   "metadata": {},
   "outputs": [],
   "source": [
    "address = \"123 Main Street, Springfield, USA\"\n",
    "street, city, country = address.split(\", \")\n",
    "print(f\"Street: {street}, City: {city}, Country: {country}\")"
   ]
  },
  {
   "cell_type": "markdown",
   "id": "11",
   "metadata": {},
   "source": [
    "## Exercise 6: Using For Loops to Process Coordinate Lists\n",
    "\n",
    "- Create a list of tuples representing coordinates (latitude, longitude).\n",
    "- Write a `for` loop that prints each coordinate and indicates whether it is in the Northern or Southern Hemisphere based on the latitude."
   ]
  },
  {
   "cell_type": "code",
   "execution_count": null,
   "id": "12",
   "metadata": {},
   "outputs": [],
   "source": [
    "coordinates = [\n",
    "    (35.6895, 139.6917),\n",
    "    (-34.0522, -118.2437),\n",
    "    (51.5074, -0.1278),\n",
    "    (-48.8566, 2.3522),\n",
    "    (37.7749, -122.4194),\n",
    "    (40.7128, -74.0060)] \n",
    "\n",
    "for lat, lon in coordinates:\n",
    "    if lat > 0:\n",
    "        print(f\"{lat} is in the Northern Hemisphere\")\n",
    "    else:\n",
    "        print(f\"{lat} is in the Southern Hemisphere\")\n"
   ]
  },
  {
   "cell_type": "markdown",
   "id": "13",
   "metadata": {},
   "source": [
    "## Exercise 7: While Loops for Iterative Processing\n",
    "\n",
    "- Create a list of coordinates (latitude, longitude).\n",
    "- Write a `while` loop that continues to print each coordinate until it encounters a coordinate with a negative latitude.\n",
    "- Stop the loop once this condition is met."
   ]
  },
  {
   "cell_type": "code",
   "execution_count": 108,
   "id": "14",
   "metadata": {},
   "outputs": [
    {
     "name": "stdout",
     "output_type": "stream",
     "text": [
      "Coordinates: 35.6895, 139.6917\n",
      "Coordinates: -34.0522, -118.2437\n",
      "Broke out of the loop at index 1 due to negative latitude\n"
     ]
    }
   ],
   "source": [
    "# Initialize the index\n",
    "index = 0\n",
    "\n",
    "# Iterate over the coordinates with while loop\n",
    "while index < len(coordinates):\n",
    "    lat, lon = coordinates[index]\n",
    "    print(f\"Coordinates: {lat}, {lon}\")\n",
    "    \n",
    "    #Break out of the loop if the latitude is negative\n",
    "    if lat < 0:\n",
    "        print(f\"Broke out of the loop at index {index} due to negative latitude\")\n",
    "        break\n",
    "    \n",
    "    #Increment the index\n",
    "    index += 1"
   ]
  },
  {
   "cell_type": "markdown",
   "id": "15",
   "metadata": {},
   "source": [
    "## Exercise 8: Conditional Logic in Loops\n",
    "\n",
    "- Create a list of coordinates and use a `for` loop to iterate over them.\n",
    "- Use an `if-elif-else` statement inside the loop to classify each coordinate based on its longitude:\n",
    "  - Print `\"Eastern Hemisphere\"` if the longitude is greater than 0.\n",
    "  - Print `\"Western Hemisphere\"` if the longitude is less than 0."
   ]
  },
  {
   "cell_type": "code",
   "execution_count": null,
   "id": "16",
   "metadata": {},
   "outputs": [],
   "source": [
    "for lat, lon in coordinates:\n",
    "    if lon > 0:\n",
    "        hemisphere = \"Eastern\"\n",
    "    else:\n",
    "        hemisphere = \"Western\"\n",
    "\n",
    "    print(\n",
    "        f\"The coordinate ({lat}, {lon}) is in the {hemisphere} Hemisphere.\"\n",
    "    )"
   ]
  },
  {
   "cell_type": "markdown",
   "id": "17",
   "metadata": {},
   "source": [
    "## Exercise 9: Filtering Data with Combined Loops and Conditionals\n",
    "\n",
    "- Given a list of coordinates, filter out and store only those located in the Southern Hemisphere (latitude < 0).\n",
    "- Count the number of coordinates that meet this condition and print the result."
   ]
  },
  {
   "cell_type": "code",
   "execution_count": null,
   "id": "18",
   "metadata": {},
   "outputs": [],
   "source": [
    "southern_corrdinates = []\n",
    "southern_count = 0\n",
    "\n",
    "for lat, lon in coordinates:\n",
    "    if lat < 0:\n",
    "        southern_corrdinates.append((lat, lon))\n",
    "        southern_count += 1\n",
    "        \n",
    "print(f\"There are {southern_count} coordinates in the southern hemisphere.\")"
   ]
  },
  {
   "cell_type": "markdown",
   "id": "19",
   "metadata": {},
   "source": [
    "## Exercise 10: Generating and Analyzing Random Coordinates\n",
    "\n",
    "- Write a program that generates random coordinates (latitude between [-90, 90] degrees and longitude between [-180, 180] degrees).\n",
    "- Use a `while` loop to keep generating coordinates until a pair with both latitude and longitude greater than 50 is generated.\n",
    "- Print each generated coordinate and the final coordinate that meets the condition."
   ]
  },
  {
   "cell_type": "code",
   "execution_count": null,
   "id": "20",
   "metadata": {},
   "outputs": [],
   "source": [
    "import random\n",
    "\n",
    "while True:\n",
    "    lat = random.uniform(-90, 90)\n",
    "    lon = random.uniform(-180, 180)\n",
    "    print(f\"Generated coordinates: ({lat}, {lon})\")\n",
    "    if lat > 50 and lon > 50:\n",
    "        break"
   ]
  }
 ],
 "metadata": {
  "kernelspec": {
   "display_name": "geog312",
   "language": "python",
   "name": "python3"
  },
  "language_info": {
   "codemirror_mode": {
    "name": "ipython",
    "version": 3
   },
   "file_extension": ".py",
   "mimetype": "text/x-python",
   "name": "python",
   "nbconvert_exporter": "python",
   "pygments_lexer": "ipython3",
   "version": "3.11.9"
  }
 },
 "nbformat": 4,
 "nbformat_minor": 5
}
