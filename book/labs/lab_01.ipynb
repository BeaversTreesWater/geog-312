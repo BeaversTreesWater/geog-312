{
  "cells": [
    {
      "cell_type": "markdown",
      "id": "0",
      "metadata": {
        "id": "0"
      },
      "source": [
        "# Lab 1\n",
        "\n",
        "[![Open In Colab](https://colab.research.google.com/assets/colab-badge.svg)](https://colab.research.google.com/github/giswqs/geog-312/blob/main/book/labs/lab_01.ipynb)"
      ]
    },
    {
      "cell_type": "markdown",
      "id": "1",
      "metadata": {
        "id": "1"
      },
      "source": [
        "## Exercise 1: Variable Assignment and Basic Operations\n",
        "\n",
        "Create variables to store the following geospatial data:\n",
        "\n",
        "- The latitude and longitude of New York City: 40.7128, -74.0060.\n",
        "- The population of New York City: 8,336,817.\n",
        "- The area of New York City in square kilometers: 783.8.\n",
        "\n",
        "Perform the following tasks:\n",
        "\n",
        "1. Calculate and print the population density of New York City (population per square kilometer).\n",
        "2. Print the coordinates in the format \"Latitude: [latitude], Longitude: [longitude]\"."
      ]
    },
    {
      "cell_type": "code",
      "execution_count": 9,
      "id": "2",
      "metadata": {
        "id": "2",
        "outputId": "b305eba8-d81b-4f65-c913-444d8d1cfe31",
        "colab": {
          "base_uri": "https://localhost:8080/"
        }
      },
      "outputs": [
        {
          "output_type": "stream",
          "name": "stdout",
          "text": [
            "10636.408522582293\n",
            "Latitude: 40.7128, Longitude: -74.006\n"
          ]
        }
      ],
      "source": [
        "# NYC information\n",
        "nyc_coordinates = (40.7128, -74.0060)\n",
        "nyc_population = 8336817\n",
        "nyc_area_sqkm = 783.8\n",
        "\n",
        "#Calculate and print population density\n",
        "nyc_population_density = nyc_population/nyc_area_sqkm\n",
        "print(nyc_population_density)\n",
        "\n",
        "#Print lat-long in  \"Latitude: [latitude], Longitude: [longitude]\" format\n",
        "latitude = nyc_coordinates[0]\n",
        "longitude = nyc_coordinates[1]\n",
        "print(f\"Latitude: {latitude}, Longitude: {longitude}\")"
      ]
    },
    {
      "cell_type": "markdown",
      "id": "3",
      "metadata": {
        "id": "3"
      },
      "source": [
        "## Exercise 2: Working with Strings\n",
        "\n",
        "Create a string variable to store the name of a city, such as \"San Francisco\". Perform the following operations:\n",
        "\n",
        "1. Convert the string to lowercase and print the result.\n",
        "2. Convert the string to uppercase and print the result.\n",
        "3. Replace \"San\" with \"Los\" in the city name and print the new string."
      ]
    },
    {
      "cell_type": "code",
      "execution_count": 12,
      "id": "4",
      "metadata": {
        "id": "4",
        "outputId": "9288be6a-7364-45c0-a12c-e4e5d7e24376",
        "colab": {
          "base_uri": "https://localhost:8080/"
        }
      },
      "outputs": [
        {
          "output_type": "stream",
          "name": "stdout",
          "text": [
            "san francisco\n",
            "SAN FRANCISCO\n",
            "Los Francisco\n"
          ]
        }
      ],
      "source": [
        "city_name = \"San Francisco\"\n",
        "\n",
        "city_name_lower = city_name.lower()\n",
        "print(city_name_lower)\n",
        "\n",
        "city_name_upper = city_name.upper()\n",
        "print(city_name_upper)\n",
        "\n",
        "city_name_replace = city_name.replace(\"San\", \"Los\")\n",
        "print(city_name_replace)"
      ]
    },
    {
      "cell_type": "markdown",
      "id": "5",
      "metadata": {
        "id": "5"
      },
      "source": [
        "## Exercise 3: Using Lists\n",
        "\n",
        "Create a list of tuples, where each tuple contains the name of a city and its corresponding latitude and longitude:\n",
        "\n",
        "- New York City: (40.7128, -74.0060)\n",
        "- Los Angeles: (34.0522, -118.2437)\n",
        "- Chicago: (41.8781, -87.6298)\n",
        "\n",
        "Perform the following tasks:\n",
        "\n",
        "1. Add a new city (e.g., Miami: (25.7617, -80.1918)) to the list.\n",
        "2. Print the entire list of cities.\n",
        "3. Slice the list to print only the first two cities."
      ]
    },
    {
      "cell_type": "code",
      "execution_count": 47,
      "id": "6",
      "metadata": {
        "id": "6",
        "outputId": "196269aa-9d96-4dd9-a441-07b7904493fb",
        "colab": {
          "base_uri": "https://localhost:8080/"
        }
      },
      "outputs": [
        {
          "output_type": "stream",
          "name": "stdout",
          "text": [
            "[('New York City', (40.7128, -74.006)), ('Los Angeles', (34.0522, -118.2437)), ('Chicago', (41.8781, -87.6298))]\n",
            "[('New York City', (40.7128, -74.006)), ('Los Angeles', (34.0522, -118.2437)), ('Chicago', (41.8781, -87.6298)), ('Miami', (25.7617, -80.1918))]\n",
            "[('New York City', (40.7128, -74.006)), ('Los Angeles', (34.0522, -118.2437))]\n"
          ]
        }
      ],
      "source": [
        "cities = [(\"New York City\", (40.7128,-74.0060)),\n",
        "          (\"Los Angeles\", (34.0522,-118.2437)),\n",
        "          (\"Chicago\", (41.8781,-87.6298))]\n",
        "print(cities)\n",
        "\n",
        "cities.append((\"Miami\", (25.7617, -80.1918)))\n",
        "print(cities)\n",
        "\n",
        "print(cities[:2])"
      ]
    },
    {
      "cell_type": "markdown",
      "id": "7",
      "metadata": {
        "id": "7"
      },
      "source": [
        "## Exercise 4: Using Tuples\n",
        "\n",
        "Create a tuple to store the coordinates (latitude, longitude) of the Eiffel Tower: (48.8584, 2.2945). Perform the following tasks:\n",
        "\n",
        "1. Access and print the latitude and longitude values from the tuple.\n",
        "2. Try to change the latitude value to 48.8585. What happens? Explain why."
      ]
    },
    {
      "cell_type": "code",
      "execution_count": 22,
      "id": "8",
      "metadata": {
        "id": "8",
        "outputId": "66d1281c-62b1-4691-e276-c35fc90deaac",
        "colab": {
          "base_uri": "https://localhost:8080/"
        }
      },
      "outputs": [
        {
          "output_type": "stream",
          "name": "stdout",
          "text": [
            "Eiffel Tower Latitude: 48.8584 and Longitude: 2.2945\n"
          ]
        }
      ],
      "source": [
        "eiffel_tower_coordinates = (48.8584, 2.2945)\n",
        "latitude = eiffel_tower_coordinates[0]\n",
        "longitude = eiffel_tower_coordinates[1]\n",
        "\n",
        "print(f\"Eiffel Tower Latitude: {latitude} and Longitude: {longitude}\")\n",
        "\n",
        "#eiffel_tower_coordinates[0]= 48.8585\n",
        "\n",
        "# This cannot happen as tuple objects are immutable and cannot be changed #"
      ]
    },
    {
      "cell_type": "markdown",
      "id": "9",
      "metadata": {
        "id": "9"
      },
      "source": [
        "## Exercise 5: Working with Sets\n",
        "\n",
        "Create a set of countries you have visited, such as {\"USA\", \"France\", \"Germany\"}. Perform the following tasks:\n",
        "\n",
        "1. Add a new country to the set.\n",
        "2. Try to add the same country again. What happens?\n",
        "3. Print the updated set."
      ]
    },
    {
      "cell_type": "code",
      "execution_count": 27,
      "id": "10",
      "metadata": {
        "id": "10",
        "outputId": "1b537d72-3376-49a4-cade-f9ad4bd05843",
        "colab": {
          "base_uri": "https://localhost:8080/"
        }
      },
      "outputs": [
        {
          "output_type": "stream",
          "name": "stdout",
          "text": [
            "Countries: {'Canada', 'USA'}\n",
            "Updated Countries: {'Canada', 'USA', 'Portugal'}\n",
            "Regions after attempting to add duplicate: {'Canada', 'USA', 'Portugal'}\n"
          ]
        }
      ],
      "source": [
        "countries = [\"USA\",\"Canada\"]\n",
        "countries = set(countries)\n",
        "print(\"Countries:\",countries)\n",
        "\n",
        "countries.add(\"Portugal\")\n",
        "print(\"Updated Countries:\", countries)\n",
        "\n",
        "countries.add(\"Portugal\")\n",
        "print(\"Regions after attempting to add duplicate:\", countries)\n",
        "\n",
        "# Nothing happens the second time using set\n",
        "# as they hold a collection of unique elements."
      ]
    },
    {
      "cell_type": "markdown",
      "id": "11",
      "metadata": {
        "id": "11"
      },
      "source": [
        "## Exercise 6: Working with Dictionaries\n",
        "\n",
        "Create a dictionary to store information about a specific geospatial feature, such as a river:\n",
        "\n",
        "- Name: \"Amazon River\"\n",
        "- Length: 6400 km\n",
        "- Countries: [\"Brazil\", \"Peru\", \"Colombia\"]\n",
        "\n",
        "Perform the following tasks:\n",
        "\n",
        "1. Add a new key-value pair to the dictionary to store the river's average discharge (e.g., 209,000 m³/s).\n",
        "2. Update the length of the river to 6992 km.\n",
        "3. Print the dictionary."
      ]
    },
    {
      "cell_type": "code",
      "execution_count": 57,
      "id": "12",
      "metadata": {
        "id": "12",
        "outputId": "27b1aea8-2183-4ed4-d521-5f6b833d575b",
        "colab": {
          "base_uri": "https://localhost:8080/"
        }
      },
      "outputs": [
        {
          "output_type": "stream",
          "name": "stdout",
          "text": [
            "{'name': 'Amazon River', 'Length': 6400, 'Countries': ['Brazil', 'Peru', 'Columbia']}\n",
            "{'name': 'Amazon River', 'Length': 6400, 'Countries': ['Brazil', 'Peru', 'Columbia'], 'avg_discharge_cms': 209000}\n",
            "{'name': 'Amazon River', 'Length': 6992, 'Countries': ['Brazil', 'Peru', 'Columbia'], 'avg_discharge_cms': 209000}\n"
          ]
        }
      ],
      "source": [
        "river_attributes = {\"name\": \"Amazon River\",\n",
        "                    \"Length\": 6400,\n",
        "                    \"Countries\" : [\"Brazil\", \"Peru\", \"Columbia\"]\n",
        "                    }\n",
        "print(river_attributes)\n",
        "\n",
        "river_attributes[\"avg_discharge_cms\"] = 209000\n",
        "print(river_attributes)\n",
        "\n",
        "river_attributes[\"Length\"] = 6992\n",
        "print(river_attributes)"
      ]
    },
    {
      "cell_type": "markdown",
      "id": "13",
      "metadata": {
        "id": "13"
      },
      "source": [
        "## Exercise 7: Nested Data Structures\n",
        "\n",
        "Create a dictionary to represent a city that contains the city's name, population, and coordinates (latitude, longitude):\n",
        "\n",
        "- Name: \"Tokyo\"\n",
        "- Population: 13,515,271\n",
        "- Coordinates: (35.6895, 139.6917)\n",
        "\n",
        "Perform the following tasks:\n",
        "\n",
        "1. Access and print the population of the city.\n",
        "2. Access and print the city's latitude.\n",
        "3. Update the population to 14,000,000 and print the updated dictionary."
      ]
    },
    {
      "cell_type": "code",
      "execution_count": 40,
      "id": "14",
      "metadata": {
        "id": "14",
        "outputId": "3cc72bb4-9eb8-4570-9262-9e355d6edb4d",
        "colab": {
          "base_uri": "https://localhost:8080/"
        }
      },
      "outputs": [
        {
          "output_type": "stream",
          "name": "stdout",
          "text": [
            "City: Tokyo\n",
            "Tokyo's latitude is 35.6895\n",
            "Updated attributes for Tokyo:, {'name': 'Tokyo', 'population': 14000000, 'coordinates': (35.6895, 139.6917)}\n"
          ]
        }
      ],
      "source": [
        "city_attributes = {\"name\": \"Tokyo\",\n",
        "                   \"population\": 13515271,\n",
        "                   \"coordinates\": (35.6895, 139.6917),\n",
        "                  }\n",
        "city_name = city_attributes[\"name\"]\n",
        "print(f\"City: {city_name}\")\n",
        "\n",
        "city_latitude = city_attributes[\"coordinates\"][0]\n",
        "print(f\"{city_name}'s latitude is {city_latitude}\")\n",
        "\n",
        "city_attributes[\"population\"] = 14000000\n",
        "print(f\"Updated attributes for {city_name}:, {city_attributes}\")\n"
      ]
    },
    {
      "cell_type": "markdown",
      "id": "15",
      "metadata": {
        "id": "15"
      },
      "source": [
        "## Exercise 8: List Operations\n",
        "\n",
        "Given the list of cities from Exercise 3, perform the following operations:\n",
        "\n",
        "1. Sort the list of cities alphabetically by name.\n",
        "2. Create a new list that contains only the city names.\n",
        "3. Remove the last city from the original list and print the updated list."
      ]
    },
    {
      "cell_type": "code",
      "execution_count": 50,
      "id": "16",
      "metadata": {
        "id": "16",
        "outputId": "5f8c58fd-220b-48b0-b522-b1c0d5870cf4",
        "colab": {
          "base_uri": "https://localhost:8080/"
        }
      },
      "outputs": [
        {
          "output_type": "stream",
          "name": "stdout",
          "text": [
            "[('New York City', (40.7128, -74.006)), ('Los Angeles', (34.0522, -118.2437)), ('Chicago', (41.8781, -87.6298)), ('Miami', (25.7617, -80.1918))]\n",
            "[('Chicago', (41.8781, -87.6298)), ('Los Angeles', (34.0522, -118.2437)), ('Miami', (25.7617, -80.1918)), ('New York City', (40.7128, -74.006))]\n",
            "['New York City', 'Los Angeles', 'Chicago', 'Miami']\n",
            "Removed last city with pop: ['New York City', 'Los Angeles', 'Chicago']\n"
          ]
        }
      ],
      "source": [
        "print(cities)\n",
        "sorted_cities = sorted(cities)\n",
        "print(sorted_cities)\n",
        "\n",
        "city_names = [city[0] for city in cities]\n",
        "print(city_names)\n",
        "\n",
        "city_names.pop()\n",
        "print(f\"Removed last city with pop: {city_names}\")\n"
      ]
    },
    {
      "cell_type": "markdown",
      "id": "17",
      "metadata": {
        "id": "17"
      },
      "source": [
        "## Exercise 9: Dictionary Operations\n",
        "\n",
        "Using the dictionary from Exercise 6, perform the following tasks:\n",
        "\n",
        "1. Check if the key \"Length\" exists in the dictionary.\n",
        "2. Print all the keys in the dictionary.\n",
        "3. Print all the values in the dictionary."
      ]
    },
    {
      "cell_type": "code",
      "execution_count": 66,
      "id": "18",
      "metadata": {
        "id": "18",
        "outputId": "f598a142-1ebb-4784-bd0f-b9faea57afe8",
        "colab": {
          "base_uri": "https://localhost:8080/"
        }
      },
      "outputs": [
        {
          "output_type": "stream",
          "name": "stdout",
          "text": [
            "True\n",
            "Keys: ['name', 'Length', 'Countries', 'avg_discharge_cms']\n",
            "Values: ['Amazon River', 6992, ['Brazil', 'Peru', 'Columbia'], 209000]\n"
          ]
        }
      ],
      "source": [
        "print(\"Length\" in river_attributes)\n",
        "\n",
        "all_keys = list(river_attributes.keys())\n",
        "print(f\"Keys: {all_keys}\")\n",
        "\n",
        "all_values = list(river_attributes.values())\n",
        "print(f\"Values: {all_values}\")\n",
        "\n"
      ]
    },
    {
      "cell_type": "markdown",
      "id": "19",
      "metadata": {
        "id": "19"
      },
      "source": [
        "## Exercise 10: Practical Application\n",
        "\n",
        "Imagine you have a list of tuples, each representing a location with its name, latitude, and longitude:"
      ]
    },
    {
      "cell_type": "code",
      "execution_count": 71,
      "id": "20",
      "metadata": {
        "id": "20"
      },
      "outputs": [],
      "source": [
        "locations = [\n",
        "    (\"Mount Everest\", 27.9881, 86.9250),\n",
        "    (\"K2\", 35.8808, 76.5155),\n",
        "    (\"Kangchenjunga\", 27.7025, 88.1475),\n",
        "]"
      ]
    },
    {
      "cell_type": "markdown",
      "id": "21",
      "metadata": {
        "id": "21"
      },
      "source": [
        "Perform the following tasks:\n",
        "\n",
        "1. Create a new list that contains only the names of the locations.\n",
        "2. Create a dictionary where the keys are location names and the values are tuples of their coordinates.\n",
        "3. Print the latitude of \"K2\" using the dictionary."
      ]
    },
    {
      "cell_type": "code",
      "execution_count": 77,
      "id": "22",
      "metadata": {
        "id": "22",
        "outputId": "0cb83bc8-047b-4e9c-a52d-01c3077965eb",
        "colab": {
          "base_uri": "https://localhost:8080/"
        }
      },
      "outputs": [
        {
          "output_type": "stream",
          "name": "stdout",
          "text": [
            "['Mount Everest', 'K2', 'Kangchenjunga']\n",
            "{'Mount Everest': (27.9881, 86.925), 'K2': (35.8808, 76.5155), 'Kangchenjunga': (27.7025, 88.1475)}\n",
            "35.8808\n"
          ]
        }
      ],
      "source": [
        "mountain_names = [location[0] for location in locations]\n",
        "print(mountain_names)\n",
        "\n",
        "mountain_dict = {location[0]: (location[1],location[2]) for location in locations}\n",
        "print(mountain_dict)\n",
        "\n",
        "k2_latitude = mountain_dict[\"K2\"][0]\n",
        "print(k2_latitude)"
      ]
    }
  ],
  "metadata": {
    "kernelspec": {
      "display_name": "Python 3",
      "language": "python",
      "name": "python3"
    },
    "language_info": {
      "codemirror_mode": {
        "name": "ipython",
        "version": 3
      },
      "file_extension": ".py",
      "mimetype": "text/x-python",
      "name": "python",
      "nbconvert_exporter": "python",
      "pygments_lexer": "ipython3",
      "version": "3.11.8"
    },
    "colab": {
      "provenance": []
    }
  },
  "nbformat": 4,
  "nbformat_minor": 5
}